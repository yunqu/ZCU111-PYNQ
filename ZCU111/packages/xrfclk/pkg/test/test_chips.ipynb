{
 "cells": [
  {
   "cell_type": "code",
   "execution_count": null,
   "metadata": {},
   "outputs": [],
   "source": [
    "!modprobe i2c-dev"
   ]
  },
  {
   "cell_type": "code",
   "execution_count": null,
   "metadata": {},
   "outputs": [],
   "source": [
    "!pip3 uninstall -y xrfclk\n",
    "!pwd\n",
    "!make clean\n",
    "!make all\n",
    "!make install"
   ]
  },
  {
   "cell_type": "code",
   "execution_count": 4,
   "metadata": {},
   "outputs": [],
   "source": [
    "import xrfclk"
   ]
  },
  {
   "cell_type": "markdown",
   "metadata": {},
   "source": [
    "Import the registers from TICs Pro generated \\*.txt file:"
   ]
  },
  {
   "cell_type": "code",
   "execution_count": 3,
   "metadata": {},
   "outputs": [],
   "source": [
    "import csv\n",
    "_lmk04832Config = []\n",
    "with open(\"./clk_configs/LMK04832_clk1_clk2_16MHz.txt\", newline='') as csvfile:\n",
    "    spamreader = csv.reader(csvfile, delimiter='\\t')\n",
    "    for row in spamreader:\n",
    "        _lmk04832Config.append(int(row[1],16))"
   ]
  },
  {
   "cell_type": "code",
   "execution_count": 5,
   "metadata": {},
   "outputs": [],
   "source": [
    "xrfclk._clear_int()"
   ]
  },
  {
   "cell_type": "code",
   "execution_count": 6,
   "metadata": {},
   "outputs": [],
   "source": [
    "xrfclk._write_Lmk04832Regs_regs(_lmk04832Config)"
   ]
  },
  {
   "cell_type": "markdown",
   "metadata": {},
   "source": [
    "Test to run through all possible configurations for Status_LD2 on LMK04832:"
   ]
  },
  {
   "cell_type": "code",
   "execution_count": 8,
   "metadata": {},
   "outputs": [],
   "source": [
    "xrfclk._clear_int()\n",
    "from time import sleep\n",
    "for TYPE in [TYPE for TYPE in range(3,7) if TYPE != 5]:\n",
    "    for MUX in [MUX for MUX in range(0, 19) if MUX != 6]:\n",
    "        Status_LD2 = (MUX << 3) + TYPE\n",
    "        Status_LD2_REG = hex((0x16E << 8) + Status_LD2)\n",
    "        _lmk04832Config[116] = int(Status_LD2_REG, 16)\n",
    "        xrfclk._write_Lmk04832Regs_regs(_lmk04832Config)\n",
    "        xrfclk._clear_int()\n",
    "        sleep(0.1)"
   ]
  }
 ],
 "metadata": {
  "kernelspec": {
   "display_name": "Python 3",
   "language": "python",
   "name": "python3"
  },
  "language_info": {
   "codemirror_mode": {
    "name": "ipython",
    "version": 3
   },
   "file_extension": ".py",
   "mimetype": "text/x-python",
   "name": "python",
   "nbconvert_exporter": "python",
   "pygments_lexer": "ipython3",
   "version": "3.6.5"
  }
 },
 "nbformat": 4,
 "nbformat_minor": 4
}
