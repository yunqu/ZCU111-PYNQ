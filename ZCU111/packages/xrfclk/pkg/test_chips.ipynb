{
 "cells": [
  {
   "cell_type": "code",
   "execution_count": 1,
   "metadata": {},
   "outputs": [],
   "source": [
    "!modprobe i2c-dev"
   ]
  },
  {
   "cell_type": "code",
   "execution_count": 5,
   "metadata": {},
   "outputs": [
    {
     "name": "stdout",
     "output_type": "stream",
     "text": [
      "WARNING: pip is being invoked by an old script wrapper. This will fail in a future version of pip.\n",
      "Please see https://github.com/pypa/pip/issues/5599 for advice on fixing the underlying issue.\n",
      "To avoid this problem you can invoke Python with '-m pip' instead of running pip directly.\n",
      "Found existing installation: xrfclk 0.1\n",
      "Uninstalling xrfclk-0.1:\n",
      "  Successfully uninstalled xrfclk-0.1\n",
      "/home/xilinx/jupyter_notebooks/ZCU111-PYNQ/ZCU111/packages/xrfclk/pkg\n",
      "rm libxrfclk.so\n",
      "gcc -o libxrfclk.so -shared -fPIC -Isrc src/xrfdc_lmx2594.c src/xrfdc_clk_wrapper.c src/xrfdc_sc18is602b.c src/xrfdc_lmk04832.c src/xrfdc_lmk04208.c -DBOARD_XUPRFSOC -ggdb\n",
      "cp libxrfclk.so xrfclk/\n",
      "pip3 install .\n",
      "WARNING: pip is being invoked by an old script wrapper. This will fail in a future version of pip.\n",
      "Please see https://github.com/pypa/pip/issues/5599 for advice on fixing the underlying issue.\n",
      "To avoid this problem you can invoke Python with '-m pip' instead of running pip directly.\n",
      "Processing /home/xilinx/jupyter_notebooks/ZCU111-PYNQ/ZCU111/packages/xrfclk/pkg\n",
      "Requirement already satisfied: pynq in /usr/local/lib/python3.6/dist-packages (from xrfclk==0.1) (2.5.3)\n",
      "Requirement already satisfied: cffi in /usr/lib/python3/dist-packages (from pynq->xrfclk==0.1) (1.11.5)\n",
      "Requirement already satisfied: numpy in /usr/local/lib/python3.6/dist-packages (from pynq->xrfclk==0.1) (1.16.0)\n",
      "Requirement already satisfied: pandas; python_version >= \"3.5.3\" in /usr/lib/python3/dist-packages (from pynq->xrfclk==0.1) (0.22.0)\n",
      "Requirement already satisfied: setuptools>=24.2.0 in /usr/lib/python3/dist-packages (from pynq->xrfclk==0.1) (39.0.1)\n",
      "Building wheels for collected packages: xrfclk\n",
      "  Building wheel for xrfclk (setup.py) ... \u001b[?25ldone\n",
      "\u001b[?25h  Created wheel for xrfclk: filename=xrfclk-0.1-py3-none-any.whl size=12772 sha256=391e37c31c5a4fc0d0e3bba2520e9827b8e030e899d31b0beb3e934ae8329851\n",
      "  Stored in directory: /tmp/pip-ephem-wheel-cache-c1hp46pl/wheels/37/3b/7f/afc6d0d562f316bfb71d7cbfd8f86a700f58934f1cb768ec4c\n",
      "Successfully built xrfclk\n",
      "Installing collected packages: xrfclk\n",
      "Successfully installed xrfclk-0.1\n",
      "\u001b[33mWARNING: You are using pip version 20.2; however, version 20.2.1 is available.\n",
      "You should consider upgrading via the '/usr/bin/python3 -m pip install --upgrade pip' command.\u001b[0m\n"
     ]
    }
   ],
   "source": [
    "!pip3 uninstall -y xrfclk\n",
    "!pwd\n",
    "!make clean\n",
    "!make all\n",
    "!make install"
   ]
  },
  {
   "cell_type": "code",
   "execution_count": 1,
   "metadata": {},
   "outputs": [],
   "source": [
    "import xrfclk\n",
    "\n",
    "_lmk04832Config = {         \n",
    "    122.88: [\n",
    "          0x000090, 0x000010, 0x000200, 0x000306, 0x0004D1, 0x000563, 0x000650, 0x000C51,\n",
    "          0x000D04, 0x010090, 0x01010A, 0x010201, 0x010340, 0x010410, 0x010512, 0x010604,\n",
    "          0x010710, 0x010890, 0x01090A, 0x010A01, 0x010B40, 0x010C10, 0x010D12, 0x010E04,\n",
    "          0x010F01, 0x011008, 0x01110A, 0x011280, 0x011350, 0x011410, 0x011512, 0x011604,\n",
    "          0x011700, 0x011819, 0x01190A, 0x011A80, 0x011B50, 0x011C10, 0x011D12, 0x011E04,\n",
    "          0x011F33, 0x012019, 0x01210A, 0x012200, 0x012340, 0x012410, 0x012512, 0x012604,\n",
    "          0x012701, 0x012819, 0x01290A, 0x012A00, 0x012B40, 0x012C10, 0x012D12, 0x012E04,\n",
    "          0x012F11, 0x013002, 0x01310A, 0x013280, 0x013350, 0x013410, 0x013512, 0x013604,\n",
    "          0x013700, 0x013801, 0x013900, 0x013A0C, 0x013B00, 0x013C00, 0x013D08, 0x013E03,\n",
    "          0x013F00, 0x01400F, 0x014100, 0x014200, 0x014311, 0x014400, 0x014500, 0x014618,\n",
    "          0x01470A, 0x014803, 0x014943, 0x014A03, 0x014B06, 0x014C00, 0x014D00, 0x014EC0, \n",
    "          0x014F7F, 0x015001, 0x015102, 0x015200, 0x015300, 0x015478, 0x015500, 0x015678,\n",
    "          0x015700, 0x015896, 0x015904, 0x015AB0, 0x015BD4, 0x015C20, 0x015D00, 0x015E1E,\n",
    "          0x015F3B, 0x016000, 0x016102, 0x01624C, 0x016300, 0x016400, 0x016519, 0x016958,\n",
    "          0x016A20, 0x016B00, 0x016C00, 0x016D00, 0x016E6B, 0x017310, 0x017700, 0x018200,\n",
    "          0x018300, 0x016600, 0x016700, 0x016819, 0x055500\n",
    "    ]\n",
    "}\n",
    "\n",
    "_lmx2594Config = {\n",
    "409.6: [\n",
    "        0x700000, 0x6F0000, 0x6E0000, 0x6D0000, 0x6C0000, 0x6B0000, 0x6A0000, 0x690021,\n",
    "        0x680000, 0x670000, 0x663F80, 0x650011, 0x640000, 0x630000, 0x620200, 0x610888,\n",
    "        0x600000, 0x5F0000, 0x5E0000, 0x5D0000, 0x5C0000, 0x5B0000, 0x5A0000, 0x590000,\n",
    "        0x580000, 0x570000, 0x560000, 0x55D300, 0x540001, 0x530000, 0x521E00, 0x510000,\n",
    "        0x506666, 0x4F0026, 0x4E0003, 0x4D0000, 0x4C000C, 0x4B0980, 0x4A0000, 0x49003F,\n",
    "        0x480001, 0x470081, 0x46C350, 0x450000, 0x4403E8, 0x430000, 0x4201F4, 0x410000,\n",
    "        0x401388, 0x3F0000, 0x3E0322, 0x3D00A8, 0x3C0000, 0x3B0001, 0x3A8001, 0x390020,\n",
    "        0x380000, 0x370000, 0x360000, 0x350000, 0x340820, 0x330080, 0x320000, 0x314180,\n",
    "        0x300300, 0x2F0300, 0x2E07FC, 0x2DC0CC, 0x2C0C23, 0x2B0000, 0x2A0000, 0x290000,\n",
    "        0x280000, 0x270001, 0x260000, 0x250304, 0x240050, 0x230004, 0x220000, 0x211E21,\n",
    "        0x200393, 0x1F43EC, 0x1E318C, 0x1D318C, 0x1C0488, 0x1B0002, 0x1A0DB0, 0x190624,\n",
    "        0x18071A, 0x17007C, 0x160001, 0x150401, 0x14E048, 0x1327B7, 0x120064, 0x11012C,\n",
    "        0x100080, 0x0F064F, 0x0E1E70, 0x0D4000, 0x0C5001, 0x0B0018, 0x0A10D8, 0x090604,\n",
    "        0x082000, 0x0740B2, 0x06C802, 0x0500C8, 0x040A43, 0x030642, 0x020500, 0x010808,\n",
    "        0x00249C\n",
    "    ]\n",
    "}"
   ]
  },
  {
   "cell_type": "code",
   "execution_count": 3,
   "metadata": {},
   "outputs": [],
   "source": [
    "xrfclk._clear_int()"
   ]
  },
  {
   "cell_type": "code",
   "execution_count": 2,
   "metadata": {},
   "outputs": [],
   "source": [
    "xrfclk._write_Lmk04832Regs_regs(_lmk04832Config[122.88])"
   ]
  },
  {
   "cell_type": "code",
   "execution_count": null,
   "metadata": {},
   "outputs": [],
   "source": [
    "xrfclk._write_lmx2594_regs(_lmx2594Config[409.6])"
   ]
  }
 ],
 "metadata": {
  "kernelspec": {
   "display_name": "Python 3",
   "language": "python",
   "name": "python3"
  },
  "language_info": {
   "codemirror_mode": {
    "name": "ipython",
    "version": 3
   },
   "file_extension": ".py",
   "mimetype": "text/x-python",
   "name": "python",
   "nbconvert_exporter": "python",
   "pygments_lexer": "ipython3",
   "version": "3.6.5"
  }
 },
 "nbformat": 4,
 "nbformat_minor": 4
}
